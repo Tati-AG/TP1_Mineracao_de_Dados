{
  "nbformat": 4,
  "nbformat_minor": 0,
  "metadata": {
    "colab": {
      "provenance": [],
      "authorship_tag": "ABX9TyMF1/yFjvYsJ8nO7QDne+cE",
      "include_colab_link": true
    },
    "kernelspec": {
      "name": "python3",
      "display_name": "Python 3"
    },
    "language_info": {
      "name": "python"
    }
  },
  "cells": [
    {
      "cell_type": "markdown",
      "metadata": {
        "id": "view-in-github",
        "colab_type": "text"
      },
      "source": [
        "<a href=\"https://colab.research.google.com/github/Tati-AG/TP1_Mineracao_de_Dados/blob/main/modelagem_com_LLMs.ipynb\" target=\"_parent\"><img src=\"https://colab.research.google.com/assets/colab-badge.svg\" alt=\"Open In Colab\"/></a>"
      ]
    },
    {
      "cell_type": "markdown",
      "source": [
        "# 1º Trabalho Prático de Mineração de Dados\n",
        "# **Análise de Fatores Determinantes para o Sucesso Crítico e Financeiro de Filmes**\n"
      ],
      "metadata": {
        "id": "i8pVS4uDuvCp"
      }
    },
    {
      "cell_type": "markdown",
      "source": [
        "## Entendimento do Problema de Negócio"
      ],
      "metadata": {
        "id": "ujusLODcw_MI"
      }
    },
    {
      "cell_type": "markdown",
      "source": [
        "No contexto da indústria cinematográfica, entender os fatores que influenciam o sucesso de um filme é essencial tanto para estúdios quanto para diretores e investidores. Este projeto de Mineração de Dados tem como objetivo explorar e analisar dados históricos de filmes a partir de dois grandes bancos de dados: IMDb e OpusData (TheNumbers). O foco é identificar padrões e insights que possam guiar decisões estratégicas na produção e distribuição de filmes.\n",
        "\n",
        "As questões-chave que direcionam este estudo incluem:\n",
        "\n",
        "1. **Qualidade Direcional**: Determinar quais diretores têm os melhores ratings médios, oferecendo um indicativo de qualidade e potencial de sucesso crítico.\n",
        "2. **Duração vs. Avaliação**: Analisar se há uma correlação entre a duração dos filmes e suas avaliações, auxiliando na definição de estratégias de edição e corte.\n",
        "3. **Preferência de Gêneros**: Identificar gêneros que recebem melhores avaliações, ajudando estúdios a alinhar suas produções com as preferências do público.\n",
        "4. **Tendências Temporais**: Examinar como as avaliações mudam ao longo das décadas, para entender tendências culturais e mudanças nos critérios de avaliação.\n",
        "5. **Retorno Financeiro**: Avaliar a relação entre o orçamento, receita e a avaliação do filme, possibilitando uma análise de custo-benefício.\n",
        "6. **Diretores e Lucro**: Descobrir quais diretores geram o maior retorno financeiro médio, fornecendo insights para investidores e decisões de financiamento.\n",
        "\n",
        "O objetivo principal é fornecer uma análise abrangente que permita aos stakeholders do setor (estúdios, produtores e diretores) tomarem decisões baseadas em dados, otimizando tanto o impacto artístico quanto o retorno financeiro de futuras produções cinematográficas. Este projeto também busca aplicar técnicas de mineração de padrões frequentes e análise exploratória de dados para responder às questões propostas, servindo como um estudo de caso para demonstrar o valor do uso de métodos de mineração de dados no contexto de entretenimento e mídia."
      ],
      "metadata": {
        "id": "mmvEEfOFxVOW"
      }
    },
    {
      "cell_type": "markdown",
      "source": [
        "### Objetivo do Dataset"
      ],
      "metadata": {
        "id": "GgsY8eOI12cM"
      }
    },
    {
      "cell_type": "markdown",
      "source": [],
      "metadata": {
        "id": "fOORKc9H2iCd"
      }
    },
    {
      "cell_type": "markdown",
      "source": [
        "### Origem dos Dados"
      ],
      "metadata": {
        "id": "DT_whkek2RRi"
      }
    },
    {
      "cell_type": "markdown",
      "source": [],
      "metadata": {
        "id": "AYwszUKn2iyA"
      }
    },
    {
      "cell_type": "markdown",
      "source": [
        "### Características do Dataset"
      ],
      "metadata": {
        "id": "sXOxE5II2Rrl"
      }
    },
    {
      "cell_type": "markdown",
      "source": [],
      "metadata": {
        "id": "3UAmKei12jY1"
      }
    },
    {
      "cell_type": "markdown",
      "source": [
        "### Relação com o Problema de Negócio"
      ],
      "metadata": {
        "id": "ekrnZuno2SVk"
      }
    },
    {
      "cell_type": "markdown",
      "source": [],
      "metadata": {
        "id": "KBd_hIfZ2j1L"
      }
    }
  ]
}