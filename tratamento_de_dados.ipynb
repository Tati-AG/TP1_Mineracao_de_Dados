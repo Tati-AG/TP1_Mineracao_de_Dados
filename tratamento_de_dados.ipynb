{
  "nbformat": 4,
  "nbformat_minor": 0,
  "metadata": {
    "colab": {
      "provenance": [],
      "gpuType": "V28",
      "include_colab_link": true
    },
    "kernelspec": {
      "name": "python3",
      "display_name": "Python 3"
    },
    "language_info": {
      "name": "python"
    },
    "accelerator": "TPU"
  },
  "cells": [
    {
      "cell_type": "markdown",
      "metadata": {
        "id": "view-in-github",
        "colab_type": "text"
      },
      "source": [
        "<a href=\"https://colab.research.google.com/github/Tati-AG/TP1_Mineracao_de_Dados/blob/main/tratamento_de_dados.ipynb\" target=\"_parent\"><img src=\"https://colab.research.google.com/assets/colab-badge.svg\" alt=\"Open In Colab\"/></a>"
      ]
    },
    {
      "cell_type": "code",
      "source": [
        "from google.colab import drive\n",
        "\n",
        "drive.mount ('/content/drive')"
      ],
      "metadata": {
        "id": "g1Ier0-1apQ0",
        "colab": {
          "base_uri": "https://localhost:8080/"
        },
        "outputId": "c56a229e-dcad-43e9-c38d-38709f75d196"
      },
      "execution_count": null,
      "outputs": [
        {
          "output_type": "stream",
          "name": "stdout",
          "text": [
            "Mounted at /content/drive\n"
          ]
        }
      ]
    },
    {
      "cell_type": "code",
      "source": [
        "from collections import defaultdict\n",
        "import pandas as pd\n",
        "import numpy as np"
      ],
      "metadata": {
        "id": "gMb1XwFMf0-Z"
      },
      "execution_count": null,
      "outputs": []
    },
    {
      "cell_type": "markdown",
      "source": [
        "## Importações"
      ],
      "metadata": {
        "id": "Hpb0ZTlZcptE"
      }
    },
    {
      "cell_type": "code",
      "source": [
        "tsv_file = '/content/drive/MyDrive/TP 1 - Mineracao de Dados/imdb_data/title.basics.tsv'\n",
        "\n",
        "data_types = defaultdict (lambda: str, {5:'Int64', 6:'Int64'})\n",
        "\n",
        "title_basics = pd.read_table (tsv_file, sep = '\\t', header = 0, dtype = data_types, na_values = '\\\\N',\n",
        "                              converters = {7: lambda x: int(x) if x.isdigit() else pd.NA})"
      ],
      "metadata": {
        "id": "TEfnNvLOaKJu",
        "collapsed": true,
        "colab": {
          "base_uri": "https://localhost:8080/"
        },
        "outputId": "a278cdab-f257-4615-d2a4-2bdf7ac3c431"
      },
      "execution_count": null,
      "outputs": [
        {
          "output_type": "stream",
          "name": "stderr",
          "text": [
            "<ipython-input-3-609f254aab85>:5: ParserWarning: Both a converter and dtype were specified for column runtimeMinutes - only the converter will be used.\n",
            "  title_basics = pd.read_table (tsv_file, sep = '\\t', header = 0, dtype = data_types, na_values = '\\\\N',\n",
            "<ipython-input-3-609f254aab85>:5: ParserWarning: Both a converter and dtype were specified for column runtimeMinutes - only the converter will be used.\n",
            "  title_basics = pd.read_table (tsv_file, sep = '\\t', header = 0, dtype = data_types, na_values = '\\\\N',\n",
            "<ipython-input-3-609f254aab85>:5: ParserWarning: Both a converter and dtype were specified for column runtimeMinutes - only the converter will be used.\n",
            "  title_basics = pd.read_table (tsv_file, sep = '\\t', header = 0, dtype = data_types, na_values = '\\\\N',\n"
          ]
        }
      ]
    },
    {
      "cell_type": "code",
      "source": [
        "tsv_file = '/content/drive/MyDrive/TP 1 - Mineracao de Dados/imdb_data/title.ratings.tsv'\n",
        "\n",
        "data_types = {0:str, 1:'Float64', 2:'Int64'}\n",
        "\n",
        "title_ratings = pd.read_table (tsv_file, sep = '\\t', header = 0, dtype = data_types, na_values = '\\\\N')"
      ],
      "metadata": {
        "collapsed": true,
        "id": "N2r7nOkPmNjX"
      },
      "execution_count": null,
      "outputs": []
    },
    {
      "cell_type": "code",
      "source": [
        "tsv_file = '/content/drive/MyDrive/TP 1 - Mineracao de Dados/imdb_data/title.crew.tsv'\n",
        "\n",
        "data_types = defaultdict (lambda: str)\n",
        "\n",
        "title_crew = pd.read_table (tsv_file, sep = '\\t', header = 0, dtype = data_types, na_values = '\\\\N')"
      ],
      "metadata": {
        "collapsed": true,
        "id": "QEoAIH4qM1lJ"
      },
      "execution_count": null,
      "outputs": []
    },
    {
      "cell_type": "code",
      "source": [
        "tsv_file = '/content/drive/MyDrive/TP 1 - Mineracao de Dados/imdb_data/name.basics.tsv'\n",
        "\n",
        "data_types = defaultdict (lambda: str, {2:'Int64', 3:'Int64'})\n",
        "\n",
        "name_basics = pd.read_table (tsv_file, sep = '\\t', header = 0, dtype = data_types, na_values = '\\\\N')"
      ],
      "metadata": {
        "collapsed": true,
        "id": "uwx-HiuwM3Kz"
      },
      "execution_count": null,
      "outputs": []
    },
    {
      "cell_type": "markdown",
      "source": [
        "## Exploração e Análise"
      ],
      "metadata": {
        "id": "vXetDdTZczHi"
      }
    },
    {
      "cell_type": "code",
      "source": [
        "from matplotlib import pyplot as plt\n",
        "import matplotlib\n",
        "import seaborn as sns\n",
        "sns.set()"
      ],
      "metadata": {
        "id": "b4uv1gm1b1eg"
      },
      "execution_count": null,
      "outputs": []
    },
    {
      "cell_type": "markdown",
      "source": [
        "## Limpeza e Seleção"
      ],
      "metadata": {
        "id": "dhngtYD1dGfq"
      }
    },
    {
      "cell_type": "code",
      "source": [
        "movie_basics = title_basics.loc[np.where ((title_basics['titleType'].values == 'movie'))]"
      ],
      "metadata": {
        "id": "8xV-dPNsSVOS"
      },
      "execution_count": null,
      "outputs": []
    },
    {
      "cell_type": "code",
      "source": [
        "movie_ratings = title_ratings.loc[np.where ((title_ratings['numVotes'] >= 10000) & (title_ratings['tconst'].isin(movie_basics['tconst'])))]"
      ],
      "metadata": {
        "id": "3tbXcLmhpazH"
      },
      "execution_count": null,
      "outputs": []
    },
    {
      "cell_type": "code",
      "source": [
        "movie_ratings.to_csv('/content/drive/My Drive/TP 1 - Mineracao de Dados/imdb_data/processed_data/movie_ratings.csv', index = False)"
      ],
      "metadata": {
        "id": "FrqQEY_lsP-J"
      },
      "execution_count": null,
      "outputs": []
    },
    {
      "cell_type": "code",
      "source": [
        "del title_basics\n",
        "del title_ratings"
      ],
      "metadata": {
        "id": "5pIdPZICw6wV"
      },
      "execution_count": null,
      "outputs": []
    },
    {
      "cell_type": "code",
      "source": [
        "movie_basics = pd.merge (movie_basics, movie_ratings['tconst'], on = 'tconst', how = 'inner')\n",
        "#pd.set_option('display.max_rows', None)\n",
        "#print (movie_basics.groupby('startYear')['startYear'].count())"
      ],
      "metadata": {
        "id": "FwHSIJYmXOsw"
      },
      "execution_count": null,
      "outputs": []
    },
    {
      "cell_type": "code",
      "source": [
        "genres_by_movie = movie_basics['genres'].str.split(',').explode()"
      ],
      "metadata": {
        "id": "uDagMwBdXDDn"
      },
      "execution_count": null,
      "outputs": []
    },
    {
      "cell_type": "code",
      "source": [
        "movie_genres = pd.DataFrame ({'genre' : genres_by_movie.unique()})"
      ],
      "metadata": {
        "id": "jQD1GTNXZiK5"
      },
      "execution_count": null,
      "outputs": []
    },
    {
      "cell_type": "code",
      "source": [
        "movie_genre_bridge = pd.DataFrame ({'tconst' : movie_basics.loc[genres_by_movie.index]['tconst'].values,\n",
        "                                    'genre' : genres_by_movie.values})"
      ],
      "metadata": {
        "id": "Hg_XIOLAbI_p"
      },
      "execution_count": null,
      "outputs": []
    },
    {
      "cell_type": "code",
      "source": [
        "movie_basics.drop('genres', axis='columns', inplace=True)\n",
        "movie_basics.drop('isAdult', axis='columns', inplace=True)\n",
        "movie_basics.drop('endYear', axis='columns', inplace=True)\n",
        "movie_basics.drop('titleType', axis='columns', inplace=True)\n",
        "del genres_by_movie"
      ],
      "metadata": {
        "id": "8dXgnIcfbeVS"
      },
      "execution_count": null,
      "outputs": []
    },
    {
      "cell_type": "code",
      "source": [
        "movie_basics.to_csv('/content/drive/My Drive/TP 1 - Mineracao de Dados/imdb_data/processed_data/movie_basics.csv', index = False)\n",
        "movie_genres.to_csv('/content/drive/My Drive/TP 1 - Mineracao de Dados/imdb_data/processed_data/movie_genres.csv', index = False)\n",
        "movie_genre_bridge.to_csv('/content/drive/My Drive/TP 1 - Mineracao de Dados/imdb_data/processed_data/movie_genre_bridge.csv', index = False)"
      ],
      "metadata": {
        "id": "wmofOJTgcLD3"
      },
      "execution_count": null,
      "outputs": []
    },
    {
      "cell_type": "code",
      "source": [
        "movie_crew = title_crew.loc[np.where ((title_crew['tconst'].isin(movie_basics['tconst'])))]"
      ],
      "metadata": {
        "id": "_atWlbgIN0yx"
      },
      "execution_count": null,
      "outputs": []
    },
    {
      "cell_type": "code",
      "source": [
        "director_by_movie = movie_crew['directors'].str.split(',').explode()\n",
        "movie_directors_bridge = pd.DataFrame ({'tconst' : movie_crew.loc[director_by_movie.index]['tconst'],\n",
        "                                        'nconst' : director_by_movie.values}).dropna()"
      ],
      "metadata": {
        "id": "FGj5mSyHQpiU"
      },
      "execution_count": null,
      "outputs": []
    },
    {
      "cell_type": "code",
      "source": [
        "movie_directors_bridge.to_csv('/content/drive/My Drive/TP 1 - Mineracao de Dados/imdb_data/processed_data/movie_director_bridge.csv', index = False)"
      ],
      "metadata": {
        "id": "bcy5j7EWOMqg"
      },
      "execution_count": null,
      "outputs": []
    },
    {
      "cell_type": "code",
      "source": [
        "del title_crew\n",
        "del movie_crew\n",
        "del director_by_movie"
      ],
      "metadata": {
        "id": "W4GIKZFQf0A3"
      },
      "execution_count": null,
      "outputs": []
    },
    {
      "cell_type": "code",
      "source": [
        "movie_directors = name_basics.loc[np.where ((name_basics['nconst'].isin(movie_directors_bridge['nconst'].unique())))]"
      ],
      "metadata": {
        "id": "hwkigWHSOYKG"
      },
      "execution_count": null,
      "outputs": []
    },
    {
      "cell_type": "code",
      "source": [
        "movie_directors.to_csv('/content/drive/My Drive/TP 1 - Mineracao de Dados/imdb_data/processed_data/movie_directors.csv', index = False)"
      ],
      "metadata": {
        "id": "wQCHvUZTOxYO"
      },
      "execution_count": null,
      "outputs": []
    },
    {
      "cell_type": "code",
      "source": [
        "del name_basics"
      ],
      "metadata": {
        "id": "DF1ZFCX2ftDe"
      },
      "execution_count": null,
      "outputs": []
    },
    {
      "cell_type": "code",
      "source": [
        "print (('Movies Database: \\t' + str (movie_basics.shape)).expandtabs(30))\n",
        "print (('Movies x Genres Database: \\t' + str (movie_genre_bridge.shape)).expandtabs(30))\n",
        "print (('Genres Database: \\t' + str (movie_genres.shape)).expandtabs(30))\n",
        "print (('Movie Ratings Database: \\t' + str (movie_ratings.shape)).expandtabs(30))\n",
        "print (('Movies x Directors Database: \\t' + str (movie_directors_bridge.shape)).expandtabs(30))\n",
        "print (('Directors Database: \\t' + str (movie_directors.shape)).expandtabs(30))"
      ],
      "metadata": {
        "id": "28uB3ODAtNNq",
        "outputId": "4aaa12dd-07b0-4722-e300-0878f03aad14",
        "colab": {
          "base_uri": "https://localhost:8080/"
        }
      },
      "execution_count": null,
      "outputs": [
        {
          "output_type": "stream",
          "name": "stdout",
          "text": [
            "Movies Database:              (11439, 6)\n",
            "Movies x Genres Database:     (29570, 2)\n",
            "Genres Database:              (23, 1)\n",
            "Movie Ratings Database:       (11439, 3)\n",
            "Movies x Directors Database:  (12664, 2)\n",
            "Directors Database:           (5169, 6)\n"
          ]
        }
      ]
    }
  ]
}