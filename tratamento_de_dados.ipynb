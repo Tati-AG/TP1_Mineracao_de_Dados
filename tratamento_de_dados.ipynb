{
  "nbformat": 4,
  "nbformat_minor": 0,
  "metadata": {
    "colab": {
      "provenance": [],
      "include_colab_link": true
    },
    "kernelspec": {
      "name": "python3",
      "display_name": "Python 3"
    },
    "language_info": {
      "name": "python"
    }
  },
  "cells": [
    {
      "cell_type": "markdown",
      "metadata": {
        "id": "view-in-github",
        "colab_type": "text"
      },
      "source": [
        "<a href=\"https://colab.research.google.com/github/Tati-AG/TP1_Mineracao_de_Dados/blob/main/tratamento_de_dados.ipynb\" target=\"_parent\"><img src=\"https://colab.research.google.com/assets/colab-badge.svg\" alt=\"Open In Colab\"/></a>"
      ]
    },
    {
      "cell_type": "code",
      "source": [
        "from google.colab import drive\n",
        "\n",
        "drive.mount ('/content/drive')"
      ],
      "metadata": {
        "id": "g1Ier0-1apQ0",
        "colab": {
          "base_uri": "https://localhost:8080/"
        },
        "outputId": "29c4b2d5-b013-4354-f940-d18da87fa8e8"
      },
      "execution_count": 20,
      "outputs": [
        {
          "output_type": "stream",
          "name": "stdout",
          "text": [
            "Drive already mounted at /content/drive; to attempt to forcibly remount, call drive.mount(\"/content/drive\", force_remount=True).\n"
          ]
        }
      ]
    },
    {
      "cell_type": "code",
      "source": [
        "from collections import defaultdict\n",
        "import pandas as pd\n",
        "import numpy as np\n",
        "\n",
        "tsv_file = '/content/drive/MyDrive/imdb_data/title.basics.tsv'\n",
        "\n",
        "data_types = defaultdict (lambda: str, {4:bool, 5:'Int64', 6:'Int64'})\n",
        "\n",
        "csv_table = pd.read_table (tsv_file, sep = '\\t', header = 0, dtype = data_types, na_values = '\\\\N', converters = {4: lambda x: bool(int(x)) if x.isdigit() else x})\n",
        "\n",
        "print (csv_table)"
      ],
      "metadata": {
        "id": "TEfnNvLOaKJu",
        "colab": {
          "base_uri": "https://localhost:8080/"
        },
        "outputId": "e8ac644b-d442-463c-c235-b3bfa2673601"
      },
      "execution_count": 47,
      "outputs": [
        {
          "output_type": "stream",
          "name": "stderr",
          "text": [
            "<ipython-input-47-d5163b0707e9>:9: ParserWarning: Both a converter and dtype were specified for column isAdult - only the converter will be used.\n",
            "  csv_table = pd.read_table (tsv_file, sep = '\\t', header = 0, dtype = data_types, na_values = '\\\\N', converters = {4: lambda x: bool(int(x)) if x.isdigit() else x})\n",
            "<ipython-input-47-d5163b0707e9>:9: ParserWarning: Both a converter and dtype were specified for column isAdult - only the converter will be used.\n",
            "  csv_table = pd.read_table (tsv_file, sep = '\\t', header = 0, dtype = data_types, na_values = '\\\\N', converters = {4: lambda x: bool(int(x)) if x.isdigit() else x})\n",
            "<ipython-input-47-d5163b0707e9>:9: ParserWarning: Both a converter and dtype were specified for column isAdult - only the converter will be used.\n",
            "  csv_table = pd.read_table (tsv_file, sep = '\\t', header = 0, dtype = data_types, na_values = '\\\\N', converters = {4: lambda x: bool(int(x)) if x.isdigit() else x})\n",
            "<ipython-input-47-d5163b0707e9>:9: DtypeWarning: Columns (4) have mixed types. Specify dtype option on import or set low_memory=False.\n",
            "  csv_table = pd.read_table (tsv_file, sep = '\\t', header = 0, dtype = data_types, na_values = '\\\\N', converters = {4: lambda x: bool(int(x)) if x.isdigit() else x})\n"
          ]
        },
        {
          "output_type": "stream",
          "name": "stdout",
          "text": [
            "             tconst  titleType               primaryTitle  \\\n",
            "0         tt0000001      short                 Carmencita   \n",
            "1         tt0000002      short     Le clown et ses chiens   \n",
            "2         tt0000003      short               Poor Pierrot   \n",
            "3         tt0000004      short                Un bon bock   \n",
            "4         tt0000005      short           Blacksmith Scene   \n",
            "...             ...        ...                        ...   \n",
            "11217428  tt9916848  tvEpisode              Episode #3.17   \n",
            "11217429  tt9916850  tvEpisode              Episode #3.19   \n",
            "11217430  tt9916852  tvEpisode              Episode #3.20   \n",
            "11217431  tt9916856      short                   The Wind   \n",
            "11217432  tt9916880  tvEpisode  Horrid Henry Knows It All   \n",
            "\n",
            "                      originalTitle isAdult  startYear  endYear  \\\n",
            "0                        Carmencita   False       1894     <NA>   \n",
            "1            Le clown et ses chiens   False       1892     <NA>   \n",
            "2                    Pauvre Pierrot   False       1892     <NA>   \n",
            "3                       Un bon bock   False       1892     <NA>   \n",
            "4                  Blacksmith Scene   False       1893     <NA>   \n",
            "...                             ...     ...        ...      ...   \n",
            "11217428              Episode #3.17   False       2009     <NA>   \n",
            "11217429              Episode #3.19   False       2010     <NA>   \n",
            "11217430              Episode #3.20   False       2010     <NA>   \n",
            "11217431                   The Wind   False       2015     <NA>   \n",
            "11217432  Horrid Henry Knows It All   False       2014     <NA>   \n",
            "\n",
            "         runtimeMinutes                      genres  \n",
            "0                     1           Documentary,Short  \n",
            "1                     5             Animation,Short  \n",
            "2                     5    Animation,Comedy,Romance  \n",
            "3                    12             Animation,Short  \n",
            "4                     1                Comedy,Short  \n",
            "...                 ...                         ...  \n",
            "11217428            NaN         Action,Drama,Family  \n",
            "11217429            NaN         Action,Drama,Family  \n",
            "11217430            NaN         Action,Drama,Family  \n",
            "11217431             27                       Short  \n",
            "11217432             10  Adventure,Animation,Comedy  \n",
            "\n",
            "[11217433 rows x 9 columns]\n"
          ]
        }
      ]
    }
  ]
}