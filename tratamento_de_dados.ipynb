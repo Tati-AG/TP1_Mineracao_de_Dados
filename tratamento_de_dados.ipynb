{
  "nbformat": 4,
  "nbformat_minor": 0,
  "metadata": {
    "colab": {
      "provenance": [],
      "gpuType": "V28",
      "include_colab_link": true
    },
    "kernelspec": {
      "name": "python3",
      "display_name": "Python 3"
    },
    "language_info": {
      "name": "python"
    },
    "accelerator": "TPU"
  },
  "cells": [
    {
      "cell_type": "markdown",
      "metadata": {
        "id": "view-in-github",
        "colab_type": "text"
      },
      "source": [
        "<a href=\"https://colab.research.google.com/github/Tati-AG/TP1_Mineracao_de_Dados/blob/main/tratamento_de_dados.ipynb\" target=\"_parent\"><img src=\"https://colab.research.google.com/assets/colab-badge.svg\" alt=\"Open In Colab\"/></a>"
      ]
    },
    {
      "cell_type": "code",
      "source": [
        "from google.colab import drive\n",
        "\n",
        "drive.mount ('/content/drive')"
      ],
      "metadata": {
        "id": "g1Ier0-1apQ0"
      },
      "execution_count": null,
      "outputs": []
    },
    {
      "cell_type": "code",
      "source": [
        "from collections import defaultdict\n",
        "import pandas as pd\n",
        "import numpy as np"
      ],
      "metadata": {
        "id": "gMb1XwFMf0-Z"
      },
      "execution_count": 2,
      "outputs": []
    },
    {
      "cell_type": "code",
      "source": [
        "tsv_file = '/content/drive/MyDrive/imdb_data/title.basics.tsv'\n",
        "\n",
        "data_types = defaultdict (lambda: str, {5:'Int64', 6:'Int64'})\n",
        "\n",
        "title_basics = pd.read_table (tsv_file, sep = '\\t', header = 0, dtype = data_types, na_values = '\\\\N',\n",
        "                              converters = {7: lambda x: int(x) if x.isdigit() else pd.NA})"
      ],
      "metadata": {
        "id": "TEfnNvLOaKJu",
        "collapsed": true
      },
      "execution_count": null,
      "outputs": []
    },
    {
      "cell_type": "code",
      "source": [
        "movie_basics = title_basics.loc[np.where ((title_basics['titleType'].values == 'movie'))]"
      ],
      "metadata": {
        "id": "8xV-dPNsSVOS"
      },
      "execution_count": 4,
      "outputs": []
    },
    {
      "cell_type": "code",
      "source": [
        "genres_by_movie = movie_basics['genres'].str.split(',').explode()"
      ],
      "metadata": {
        "id": "uDagMwBdXDDn"
      },
      "execution_count": 5,
      "outputs": []
    },
    {
      "cell_type": "code",
      "source": [
        "movie_genres = pd.DataFrame ({'genre' : genres_by_movie.unique()})"
      ],
      "metadata": {
        "id": "jQD1GTNXZiK5"
      },
      "execution_count": 6,
      "outputs": []
    },
    {
      "cell_type": "code",
      "source": [
        "movie_genre_bridge = pd.DataFrame ({'tconst' : movie_basics.loc[genres_by_movie.index]['tconst'].values,\n",
        "                                    'genre' : genres_by_movie.values})"
      ],
      "metadata": {
        "id": "Hg_XIOLAbI_p"
      },
      "execution_count": 7,
      "outputs": []
    },
    {
      "cell_type": "code",
      "source": [
        "movie_basics.drop('genres', axis='columns', inplace=True)\n",
        "del title_basics\n",
        "del genres_by_movie"
      ],
      "metadata": {
        "id": "8dXgnIcfbeVS"
      },
      "execution_count": 8,
      "outputs": []
    },
    {
      "cell_type": "code",
      "source": [
        "movie_basics.to_csv('/content/drive/My Drive/imdb_data/processed_data/movie_basics.csv', index = False)\n",
        "movie_genres.to_csv('/content/drive/My Drive/imdb_data/processed_data/movie_genres.csv', index = False)\n",
        "movie_genre_bridge.to_csv('/content/drive/My Drive/imdb_data/processed_data/movie_genre_bridge.csv', index = False)"
      ],
      "metadata": {
        "id": "wmofOJTgcLD3"
      },
      "execution_count": 9,
      "outputs": []
    },
    {
      "cell_type": "code",
      "source": [
        "tsv_file = '/content/drive/MyDrive/imdb_data/title.ratings.tsv'\n",
        "\n",
        "data_types = {0:str, 1:'Float64', 2:'Int64'}\n",
        "\n",
        "title_ratings = pd.read_table (tsv_file, sep = '\\t', header = 0, dtype = data_types, na_values = '\\\\N')"
      ],
      "metadata": {
        "collapsed": true,
        "id": "N2r7nOkPmNjX"
      },
      "execution_count": 10,
      "outputs": []
    },
    {
      "cell_type": "code",
      "source": [
        "movie_ratings = title_ratings.loc[np.where ((title_ratings['tconst'].isin(movie_basics['tconst'])))]"
      ],
      "metadata": {
        "id": "3tbXcLmhpazH"
      },
      "execution_count": 11,
      "outputs": []
    },
    {
      "cell_type": "code",
      "source": [
        "movie_ratings.to_csv('/content/drive/My Drive/imdb_data/processed_data/movie_ratings.csv', index = False)"
      ],
      "metadata": {
        "id": "FrqQEY_lsP-J"
      },
      "execution_count": 12,
      "outputs": []
    },
    {
      "cell_type": "code",
      "source": [
        "del title_ratings"
      ],
      "metadata": {
        "id": "5pIdPZICw6wV"
      },
      "execution_count": 13,
      "outputs": []
    },
    {
      "cell_type": "code",
      "source": [
        "tsv_file = '/content/drive/MyDrive/imdb_data/title.crew.tsv'\n",
        "\n",
        "data_types = defaultdict (lambda: str)\n",
        "\n",
        "title_crew = pd.read_table (tsv_file, sep = '\\t', header = 0, dtype = data_types, na_values = '\\\\N')"
      ],
      "metadata": {
        "collapsed": true,
        "id": "QEoAIH4qM1lJ"
      },
      "execution_count": 14,
      "outputs": []
    },
    {
      "cell_type": "code",
      "source": [
        "movie_crew = title_crew.loc[np.where ((title_crew['tconst'].isin(movie_basics['tconst'])))]"
      ],
      "metadata": {
        "id": "_atWlbgIN0yx"
      },
      "execution_count": 15,
      "outputs": []
    },
    {
      "cell_type": "code",
      "source": [
        "director_by_movie = movie_crew['directors'].str.split(',').explode()\n",
        "movie_directors_bridge = pd.DataFrame ({'tconst' : movie_crew.loc[director_by_movie.index]['tconst'],\n",
        "                                        'nconst' : director_by_movie.values}).dropna()"
      ],
      "metadata": {
        "id": "FGj5mSyHQpiU"
      },
      "execution_count": 40,
      "outputs": []
    },
    {
      "cell_type": "code",
      "source": [
        "movie_directors_bridge.to_csv('/content/drive/My Drive/imdb_data/processed_data/movie_director_bridge.csv', index = False)"
      ],
      "metadata": {
        "id": "bcy5j7EWOMqg"
      },
      "execution_count": 41,
      "outputs": []
    },
    {
      "cell_type": "code",
      "source": [
        "del title_crew\n",
        "del movie_crew\n",
        "del director_by_movie"
      ],
      "metadata": {
        "id": "W4GIKZFQf0A3"
      },
      "execution_count": null,
      "outputs": []
    },
    {
      "cell_type": "code",
      "source": [
        "tsv_file = '/content/drive/MyDrive/imdb_data/name.basics.tsv'\n",
        "\n",
        "data_types = defaultdict (lambda: str, {2:'Int64', 3:'Int64'})\n",
        "\n",
        "name_basics = pd.read_table (tsv_file, sep = '\\t', header = 0, dtype = data_types, na_values = '\\\\N')"
      ],
      "metadata": {
        "collapsed": true,
        "id": "uwx-HiuwM3Kz"
      },
      "execution_count": 42,
      "outputs": []
    },
    {
      "cell_type": "code",
      "source": [
        "movie_directors = name_basics.loc[np.where ((name_basics['nconst'].isin(movie_directors_bridge['nconst'].unique())))]"
      ],
      "metadata": {
        "id": "hwkigWHSOYKG"
      },
      "execution_count": 43,
      "outputs": []
    },
    {
      "cell_type": "code",
      "source": [
        "movie_directors.to_csv('/content/drive/My Drive/imdb_data/processed_data/movie_directors.csv', index = False)"
      ],
      "metadata": {
        "id": "wQCHvUZTOxYO"
      },
      "execution_count": 44,
      "outputs": []
    },
    {
      "cell_type": "code",
      "source": [
        "del name_basics"
      ],
      "metadata": {
        "id": "DF1ZFCX2ftDe"
      },
      "execution_count": null,
      "outputs": []
    }
  ]
}