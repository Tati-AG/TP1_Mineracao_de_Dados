{
  "nbformat": 4,
  "nbformat_minor": 0,
  "metadata": {
    "colab": {
      "provenance": [],
      "include_colab_link": true
    },
    "kernelspec": {
      "name": "python3",
      "display_name": "Python 3"
    },
    "language_info": {
      "name": "python"
    }
  },
  "cells": [
    {
      "cell_type": "markdown",
      "metadata": {
        "id": "view-in-github",
        "colab_type": "text"
      },
      "source": [
        "<a href=\"https://colab.research.google.com/github/Tati-AG/TP1_Mineracao_de_Dados/blob/main/tratamento_de_dados.ipynb\" target=\"_parent\"><img src=\"https://colab.research.google.com/assets/colab-badge.svg\" alt=\"Open In Colab\"/></a>"
      ]
    },
    {
      "cell_type": "code",
      "source": [
        "from google.colab import drive\n",
        "\n",
        "drive.mount ('/content/drive')"
      ],
      "metadata": {
        "id": "g1Ier0-1apQ0"
      },
      "execution_count": null,
      "outputs": []
    },
    {
      "cell_type": "code",
      "source": [
        "from collections import defaultdict\n",
        "import pandas as pd\n",
        "import numpy as np"
      ],
      "metadata": {
        "id": "gMb1XwFMf0-Z"
      },
      "execution_count": 2,
      "outputs": []
    },
    {
      "cell_type": "code",
      "source": [
        "tsv_file = '/content/drive/MyDrive/imdb_data/title.basics.tsv'\n",
        "\n",
        "data_types = defaultdict (lambda: str, {5:'Int64', 6:'Int64'})\n",
        "\n",
        "title_basics = pd.read_table (tsv_file, sep = '\\t', header = 0, dtype = data_types, na_values = '\\\\N',\n",
        "                           converters = {7: lambda x: int(x) if x.isdigit() else pd.NA})"
      ],
      "metadata": {
        "id": "TEfnNvLOaKJu",
        "collapsed": true
      },
      "execution_count": null,
      "outputs": []
    },
    {
      "cell_type": "code",
      "source": [
        "movie_basics = title_basics.loc[np.where ((title_basics['titleType'].values == 'movie'))]"
      ],
      "metadata": {
        "id": "8xV-dPNsSVOS"
      },
      "execution_count": 4,
      "outputs": []
    },
    {
      "cell_type": "code",
      "source": [
        "genres_by_movie = movie_basics['genres'].str.split(',').explode()"
      ],
      "metadata": {
        "id": "uDagMwBdXDDn"
      },
      "execution_count": 5,
      "outputs": []
    },
    {
      "cell_type": "code",
      "source": [
        "movie_genres = pd.DataFrame ({'genre' : genres_by_movie.unique()})"
      ],
      "metadata": {
        "id": "jQD1GTNXZiK5"
      },
      "execution_count": 6,
      "outputs": []
    },
    {
      "cell_type": "code",
      "source": [
        "movie_genre_bridge = pd.DataFrame ({'movie_id' : movie_basics.loc[genres_by_movie.index]['tconst'].values, 'genre' : genres_by_movie.values})"
      ],
      "metadata": {
        "id": "Hg_XIOLAbI_p"
      },
      "execution_count": 19,
      "outputs": []
    },
    {
      "cell_type": "code",
      "source": [
        "movie_basics.drop('genres', axis='columns', inplace=True)"
      ],
      "metadata": {
        "id": "8dXgnIcfbeVS"
      },
      "execution_count": 8,
      "outputs": []
    },
    {
      "cell_type": "code",
      "source": [
        "movie_basics.to_csv('/content/drive/My Drive/imdb_data/processed_data/movie_basics.csv', index = False)\n",
        "movie_genres.to_csv('/content/drive/My Drive/imdb_data/processed_data/movie_gernes.csv', index = False)\n",
        "movie_genre_bridge.to_csv('/content/drive/My Drive/imdb_data/processed_data/movie_genre_bridge.csv', index = False)"
      ],
      "metadata": {
        "id": "wmofOJTgcLD3"
      },
      "execution_count": 22,
      "outputs": []
    }
  ]
}